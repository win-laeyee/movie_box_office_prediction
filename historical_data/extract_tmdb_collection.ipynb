{
 "cells": [
  {
   "cell_type": "code",
   "execution_count": 1,
   "metadata": {},
   "outputs": [],
   "source": [
    "import sys\n",
    "sys.path.insert(0, '../plugins')\n",
    "from extraction.tmdb_collection.collection import get_initial_collection_tmdb_details, upload_raw_initial_collection_tmdb_details_gcs, clean_raw_collections_details #type:ignore"
   ]
  },
  {
   "cell_type": "code",
   "execution_count": 2,
   "metadata": {},
   "outputs": [
    {
     "name": "stdout",
     "output_type": "stream",
     "text": [
      "./raw_historical_data/tmdb_collection/raw_collection_data.json\n"
     ]
    }
   ],
   "source": [
    "get_initial_collection_tmdb_details(file_path=\"./raw_historical_data/tmdb_collection\")"
   ]
  },
  {
   "cell_type": "code",
   "execution_count": 3,
   "metadata": {},
   "outputs": [
    {
     "name": "stdout",
     "output_type": "stream",
     "text": [
      "Blob raw_collection_data.json deleted.\n",
      "filenames=['raw_collection_data.json']\n",
      "Uploaded raw_collection_data.json to movies_tmdb.\n"
     ]
    }
   ],
   "source": [
    "upload_raw_initial_collection_tmdb_details_gcs()"
   ]
  },
  {
   "cell_type": "code",
   "execution_count": 4,
   "metadata": {},
   "outputs": [
    {
     "name": "stdout",
     "output_type": "stream",
     "text": [
      "./clean_historical_data/cleaned_collection_info.csv\n"
     ]
    }
   ],
   "source": [
    "clean_raw_collections_details(save_file_path='./clean_historical_data')"
   ]
  }
 ],
 "metadata": {
  "kernelspec": {
   "display_name": ".venv",
   "language": "python",
   "name": "python3"
  },
  "language_info": {
   "codemirror_mode": {
    "name": "ipython",
    "version": 3
   },
   "file_extension": ".py",
   "mimetype": "text/x-python",
   "name": "python",
   "nbconvert_exporter": "python",
   "pygments_lexer": "ipython3",
   "version": "3.11.5"
  }
 },
 "nbformat": 4,
 "nbformat_minor": 2
}
