{
 "cells": [
  {
   "cell_type": "code",
   "execution_count": 1,
   "metadata": {},
   "outputs": [],
   "source": [
    "import sys\n",
    "sys.path.insert(0, '../plugins')\n",
    "from extraction.boxoffice_api.boxoffice_func import get_batch_dataset #type:ignore"
   ]
  },
  {
   "cell_type": "code",
   "execution_count": 2,
   "metadata": {},
   "outputs": [
    {
     "name": "stderr",
     "output_type": "stream",
     "text": [
      "INFO:root:Start Data Extraction\n",
      "INFO:root:year=2021\n",
      "INFO:root:year=2022\n",
      "INFO:root:year=2023\n",
      "INFO:root:End Data Extraction\n"
     ]
    }
   ],
   "source": [
    "get_batch_dataset(datapath='./raw_historical_data/boxofficemojo',start_year=2021, end_year=2023)"
   ]
  },
  {
   "cell_type": "code",
   "execution_count": 3,
   "metadata": {},
   "outputs": [
    {
     "name": "stderr",
     "output_type": "stream",
     "text": [
      "INFO:root:Start Data Extraction\n",
      "INFO:root:year=2024\n",
      "INFO:root:End Data Extraction\n"
     ]
    }
   ],
   "source": [
    "get_batch_dataset(datapath='./raw_historical_data/boxofficemojo', start_year=2024, end_year=2024)"
   ]
  },
  {
   "cell_type": "code",
   "execution_count": 1,
   "metadata": {},
   "outputs": [
    {
     "data": {
      "text/plain": [
       "'./clean_historical_data/cleaned_weekly_domestic_performance.csv'"
      ]
     },
     "execution_count": 1,
     "metadata": {},
     "output_type": "execute_result"
    }
   ],
   "source": [
    "#test transform data function\n",
    "import sys\n",
    "sys.path.insert(0, '../plugins')\n",
    "from extraction.boxoffice_api.boxoffice_clean_per_erd import get_clean_weekly_domestic_performance #type:ignore\n",
    "\n",
    "get_clean_weekly_domestic_performance(data_path='./clean_historical_data')"
   ]
  }
 ],
 "metadata": {
  "kernelspec": {
   "display_name": ".venv",
   "language": "python",
   "name": "python3"
  },
  "language_info": {
   "codemirror_mode": {
    "name": "ipython",
    "version": 3
   },
   "file_extension": ".py",
   "mimetype": "text/x-python",
   "name": "python",
   "nbconvert_exporter": "python",
   "pygments_lexer": "ipython3",
   "version": "3.11.5"
  }
 },
 "nbformat": 4,
 "nbformat_minor": 2
}
